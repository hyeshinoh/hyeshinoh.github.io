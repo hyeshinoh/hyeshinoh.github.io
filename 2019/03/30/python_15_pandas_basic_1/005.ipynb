{
 "cells": [
  {
   "cell_type": "code",
   "execution_count": 12,
   "metadata": {},
   "outputs": [
    {
     "data": {
      "text/plain": [
       "idx\n",
       "A    60\n",
       "B    60\n",
       "C    80\n",
       "D    50\n",
       "E    30\n",
       "Name: rand_num, dtype: int32"
      ]
     },
     "execution_count": 12,
     "metadata": {},
     "output_type": "execute_result"
    }
   ],
   "source": [
    "# 연산: broadcasting으로 계산됨\n",
    "data * 10"
   ]
  },
  {
   "cell_type": "code",
   "execution_count": 19,
   "metadata": {},
   "outputs": [
    {
     "name": "stdout",
     "output_type": "stream",
     "text": [
      "data: \n",
      "idx\n",
      "A    6\n",
      "B    6\n",
      "C    8\n",
      "D    5\n",
      "E    3\n",
      "Name: rand_num, dtype: int32\n",
      "\n",
      "data2: \n",
      "D    7\n",
      "E    5\n",
      "F    9\n",
      "dtype: int64\n",
      "\n",
      "data + data2: \n",
      "A     NaN\n",
      "B     NaN\n",
      "C     NaN\n",
      "D    12.0\n",
      "E     8.0\n",
      "F     NaN\n",
      "dtype: float64\n"
     ]
    }
   ],
   "source": [
    "# series 끼리 계산 - index가 mapping 되어 연산\n",
    "print(\"data: \\n{}\\n\".format(data))\n",
    "data2 = pd.Series({\"D\":7, \"E\":5, \"F\":9})\n",
    "print(\"data2: \\n{}\\n\".format(data2))\n",
    "result = data + data2\n",
    "print(\"data + data2: \\n{}\".format(result))"
   ]
  },
  {
   "cell_type": "code",
   "execution_count": 14,
   "metadata": {},
   "outputs": [
    {
     "data": {
      "text/plain": [
       "idx\n",
       "A     True\n",
       "B     True\n",
       "C     True\n",
       "D     True\n",
       "E    False\n",
       "Name: rand_num, dtype: bool"
      ]
     },
     "execution_count": 14,
     "metadata": {},
     "output_type": "execute_result"
    }
   ],
   "source": [
    "# 비교 연산 가능\n",
    "data > 3"
   ]
  },
  {
   "cell_type": "code",
   "execution_count": 15,
   "metadata": {},
   "outputs": [
    {
     "data": {
      "text/plain": [
       "idx\n",
       "A    6\n",
       "B    6\n",
       "C    8\n",
       "D    5\n",
       "Name: rand_num, dtype: int32"
      ]
     },
     "execution_count": 15,
     "metadata": {},
     "output_type": "execute_result"
    }
   ],
   "source": [
    "# 필터링: 3이상 되는 데이터 출력\n",
    "data[data > 3]   # []안의 값이 True인 값만 출력됨"
   ]
  },
  {
   "cell_type": "code",
   "execution_count": 20,
   "metadata": {},
   "outputs": [
    {
     "name": "stdout",
     "output_type": "stream",
     "text": [
      "A    False\n",
      "B    False\n",
      "C    False\n",
      "D     True\n",
      "E     True\n",
      "F    False\n",
      "dtype: bool \n",
      "\n",
      "D    12.0\n",
      "E     8.0\n",
      "dtype: float64 \n",
      "\n"
     ]
    }
   ],
   "source": [
    "# null 데이터(NaN) 제거\n",
    "print(result.notnull(), \"\\n\")       # notnull() 함수: True/False를 return함\n",
    "result = result[result.notnull()]   # notnull이 True인 경우만 필터링함\n",
    "print(result, \"\\n\")"
   ]
  }
 ],
 "metadata": {
  "kernelspec": {
   "display_name": "Python 3",
   "language": "python",
   "name": "python3"
  },
  "language_info": {
   "codemirror_mode": {
    "name": "ipython",
    "version": 3
   },
   "file_extension": ".py",
   "mimetype": "text/x-python",
   "name": "python",
   "nbconvert_exporter": "python",
   "pygments_lexer": "ipython3",
   "version": "3.6.5"
  }
 },
 "nbformat": 4,
 "nbformat_minor": 2
}
